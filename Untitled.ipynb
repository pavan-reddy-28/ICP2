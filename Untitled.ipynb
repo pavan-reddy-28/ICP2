{
 "cells": [
  {
   "cell_type": "code",
   "execution_count": 27,
   "id": "a3a19943",
   "metadata": {},
   "outputs": [
    {
     "name": "stdout",
     "output_type": "stream",
     "text": [
      "enter first name : pavan\n",
      "enter last name : reddy\n",
      "User full name :  pavan reddy\n",
      "Alternate String :  pvnrdy\n"
     ]
    }
   ],
   "source": [
    "first_name= input(\"enter first name : \")\n",
    "last_name= input(\"enter last name : \")\n",
    "\n",
    "def full_name(first_name,last_name):\n",
    "    return first_name +\" \"+last_name\n",
    "\n",
    "def string_alternative(full_name):      \n",
    "    return full_name[::2]               \n",
    "\n",
    "\n",
    "print(\"User full name : \",full_name(first_name,last_name))\n",
    "\n",
    "print(\"Alternate String : \",string_alternative(full_name(first_name,last_name)))\n",
    "\n",
    "                       \n",
    "                       "
   ]
  },
  {
   "cell_type": "code",
   "execution_count": 29,
   "id": "e2f83d1d",
   "metadata": {},
   "outputs": [],
   "source": [
    "input_file = open(\"input.txt\", \"r\")\n",
    "output_file = open(\"output.txt\", \"w\")\n",
    "\n",
    "write_data = {}\n",
    "\n",
    "for line in input_file:\n",
    "    output_file.write(line)\n",
    "    lines = line.split()\n",
    "    for x in lines:\n",
    "        write_data[x] =  1 if write_data.get(x)==None else (write_data[x] + 1)\n",
    "\n",
    "output_file.write(\" \\n Word_Count : \\n \")\n",
    "for key, value in write_data.items(): \n",
    "        output_file.write('%s:%s\\n' % (key, value))\n",
    "input_file.close()\n",
    "output_file.close()\n",
    "            \n"
   ]
  },
  {
   "cell_type": "code",
   "execution_count": 30,
   "id": "16c1a23f",
   "metadata": {},
   "outputs": [
    {
     "name": "stdout",
     "output_type": "stream",
     "text": [
      "L1: 23 45 22 78 99\n",
      "Output: :  [58.42, 114.3, 55.88, 198.12, 251.46]\n"
     ]
    }
   ],
   "source": [
    "data = input(\"L1: \")\n",
    "\n",
    "def inchToCent(value):\n",
    "    return value*2.54\n",
    "\n",
    "heights = data.split()\n",
    "\n",
    "new_list = []\n",
    "\n",
    "for x in heights:\n",
    "    value = int(x)\n",
    "    new_list.append(inchToCent(value))\n",
    "    \n",
    "print(\"Output: : \",new_list)\n"
   ]
  }
 ],
 "metadata": {
  "kernelspec": {
   "display_name": "Python 3 (ipykernel)",
   "language": "python",
   "name": "python3"
  },
  "language_info": {
   "codemirror_mode": {
    "name": "ipython",
    "version": 3
   },
   "file_extension": ".py",
   "mimetype": "text/x-python",
   "name": "python",
   "nbconvert_exporter": "python",
   "pygments_lexer": "ipython3",
   "version": "3.9.13"
  }
 },
 "nbformat": 4,
 "nbformat_minor": 5
}
